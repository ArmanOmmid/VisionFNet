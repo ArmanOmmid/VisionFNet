{
 "cells": [
  {
   "cell_type": "code",
   "execution_count": null,
   "metadata": {},
   "outputs": [],
   "source": [
    "import os\n",
    "import json\n",
    "import numpy as np\n",
    "import matplotlib.pyplot as plt\n",
    "from utility.util import get_results, plot_results, print_test_results, print_best_val_epoch\n",
    "styles, strict = {}, False # Placeholder, redefine these below"
   ]
  },
  {
   "cell_type": "code",
   "execution_count": null,
   "metadata": {},
   "outputs": [],
   "source": [
    "experiments_path = \"../saved_experiments\"\n",
    "\n",
    "\"\"\" strict : Whether or not to strictly only include the experiments that are styled \"\"\"\n",
    "strict = True\n",
    "\n",
    "\"\"\" styles : styles for the experiment plots. Arg1 = color (can also give shared numbers), Arg2 = linestyle \"\"\"\n",
    "styles = {\n",
    "    'vit_token': [0, 'dotted'],\n",
    "    'vit' : [0, 'dashed'],\n",
    "    'vit_m' : [0, 'solid'],\n",
    "    'fvit' : [1, 'dashed'],\n",
    "    'fvit_m' : [1, 'solid'],\n",
    "    'gfn' : [2, 'dashed'],\n",
    "    'gfn_m' : [2, 'solid'],\n",
    "    'fno' : [3, 'dashed'],\n",
    "    'fno_m' : [3, 'solid'],\n",
    "}\n",
    "\n",
    "# styles = {\n",
    "#     'vit_m_s' : [0, 'solid'],\n",
    "#     'fvit_m_s' : [1, 'solid'],\n",
    "#     'gfn_m_s' : [2, 'solid'],\n",
    "#     'fno_m_s' : [3, 'solid'],\n",
    "# }\n",
    "\n",
    "train_loss, val_loss, test_loss, train_accuracy, val_accuracy, test_accuracy = get_results(experiments_path, styles, strict)"
   ]
  },
  {
   "cell_type": "code",
   "execution_count": null,
   "metadata": {},
   "outputs": [],
   "source": [
    "print_best_val_epoch(val_accuracy, \"Best Model Epoch\")"
   ]
  },
  {
   "cell_type": "code",
   "execution_count": null,
   "metadata": {},
   "outputs": [],
   "source": [
    "print_test_results(test_accuracy, 'Test Accuracy', True)"
   ]
  },
  {
   "cell_type": "code",
   "execution_count": null,
   "metadata": {},
   "outputs": [],
   "source": [
    "print_test_results(test_loss, 'Test Loss', False)"
   ]
  },
  {
   "cell_type": "code",
   "execution_count": null,
   "metadata": {},
   "outputs": [],
   "source": [
    "plot_results(train_accuracy, 'Train Accuracy', 'Accuracy', styles)"
   ]
  },
  {
   "cell_type": "code",
   "execution_count": null,
   "metadata": {},
   "outputs": [],
   "source": [
    "plot_results(train_loss, 'Train Loss', 'Loss', styles)"
   ]
  },
  {
   "cell_type": "code",
   "execution_count": null,
   "metadata": {},
   "outputs": [],
   "source": [
    "plot_results(val_accuracy, 'Validation Accuracy', 'Accuracy', styles)"
   ]
  },
  {
   "cell_type": "code",
   "execution_count": null,
   "metadata": {},
   "outputs": [],
   "source": [
    "plot_results(val_loss, 'Validation Loss', 'Loss', styles)"
   ]
  }
 ],
 "metadata": {
  "kernelspec": {
   "display_name": "Python 3",
   "language": "python",
   "name": "python3"
  },
  "language_info": {
   "codemirror_mode": {
    "name": "ipython",
    "version": 3
   },
   "file_extension": ".py",
   "mimetype": "text/x-python",
   "name": "python",
   "nbconvert_exporter": "python",
   "pygments_lexer": "ipython3",
   "version": "3.9.6"
  },
  "orig_nbformat": 4
 },
 "nbformat": 4,
 "nbformat_minor": 2
}
