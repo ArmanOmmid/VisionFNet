{
  "cells": [
    {
      "cell_type": "code",
      "execution_count": null,
      "metadata": {
        "colab": {
          "base_uri": "https://localhost:8080/"
        },
        "id": "-FM0quKoSjwp",
        "outputId": "6454bb63-25d5-40d5-e25e-ad6d018955b8"
      },
      "outputs": [
        {
          "name": "stdout",
          "output_type": "stream",
          "text": [
            "torch version: 1.13.1+cu116\n",
            "torchvision version: 0.14.1+cu116\n",
            "[INFO] Couldn't find torchinfo... installing it.\n",
            "[INFO] Downloading Code from GitHub.\n",
            "Cloning into 'CSE203B_Final_Project'...\n",
            "remote: Enumerating objects: 39, done.\u001b[K\n",
            "remote: Counting objects: 100% (39/39), done.\u001b[K\n",
            "remote: Compressing objects: 100% (28/28), done.\u001b[K\n",
            "remote: Total 39 (delta 17), reused 24 (delta 7), pack-reused 0\u001b[K\n",
            "Unpacking objects: 100% (39/39), 10.93 KiB | 466.00 KiB/s, done.\n",
            "mv: 'CSE203B_Final_Project' and './CSE203B_Final_Project' are the same file\n"
          ]
        }
      ],
      "source": [
        "# For this notebook to run with updated APIs, we need torch 1.12+ and torchvision 0.13+\n",
        "try:\n",
        "    import torch\n",
        "    import torchvision\n",
        "    assert int(torch.__version__.split(\".\")[1]) >= 12, \"torch version should be 1.12+\"\n",
        "    assert int(torchvision.__version__.split(\".\")[1]) >= 13, \"torchvision version should be 0.13+\"\n",
        "    print(f\"torch version: {torch.__version__}\")\n",
        "    print(f\"torchvision version: {torchvision.__version__}\")\n",
        "except:\n",
        "    print(f\"[INFO] torch/torchvision versions not as required, installing nightly versions.\")\n",
        "    !pip3 install -U --pre torch torchvision torchaudio --extra-index-url https://download.pytorch.org/whl/nightly/cu113\n",
        "    import torch\n",
        "    import torchvision\n",
        "    print(f\"torch version: {torch.__version__}\")\n",
        "    print(f\"torchvision version: {torchvision.__version__}\")\n",
        "\n",
        "# Continue with regular imports\n",
        "import os\n",
        "import sys\n",
        "import shutil\n",
        "from tqdm import tqdm\n",
        "import matplotlib.pyplot as plt\n",
        "from torchvision import transforms\n",
        "\n",
        "# Try to get torchinfo, install it if it doesn't work\n",
        "try:\n",
        "    from torchinfo import summary\n",
        "except:\n",
        "    print(\"[INFO] Couldn't find torchinfo... installing it.\")\n",
        "    !pip install -q torchinfo\n",
        "    from torchinfo import summary\n",
        "\n",
        "Force_Redownload = 1\n",
        "try:\n",
        "    if Force_Redownload: raise Exception(\"Force Redownload\")\n",
        "    from CSE203B_Final_Project import engine\n",
        "    from CSE203B_Final_Project.helper_functions import set_seeds, plot_loss_curves\n",
        "    from CSE203B_Final_Project.data_prep import prepare_loaders\n",
        "    from CSE203B_Final_Project.models import SViT, prepare_model\n",
        "except Exception as E:\n",
        "    print(\"[INFO] Downloading Code from GitHub.\")\n",
        "    !rm -rf CSE203B_Final_Project\n",
        "    !git clone https://github.com/ArmanOmmid/CSE203B_Final_Project\n",
        "    !mv CSE203B_Final_Project .\n",
        "finally:\n",
        "    from CSE203B_Final_Project import engine\n",
        "    from CSE203B_Final_Project.helper_functions import set_seeds, plot_loss_curves\n",
        "    from CSE203B_Final_Project.data_prep import prepare_loaders\n",
        "    from CSE203B_Final_Project.models import SViT, prepare_model\n",
        "\n",
        "device = \"cuda\" if torch.cuda.is_available() else \"cpu\"\n",
        "device\n",
        "data_folder = 'datasets'"
      ]
    },
    {
      "cell_type": "code",
      "execution_count": null,
      "metadata": {
        "colab": {
          "base_uri": "https://localhost:8080/"
        },
        "id": "3VdC7hFtS1_5",
        "outputId": "bd69809d-e2e0-472a-c33e-6e8cbd11469d"
      },
      "outputs": [
        {
          "name": "stdout",
          "output_type": "stream",
          "text": [
            "2500 500 10\n"
          ]
        }
      ],
      "source": [
        "# Create image size (from Table 3 in the ViT paper) ViT Paper used 224 ; # Create transform pipeline manually\n",
        "IMG_SIZE = 224 \n",
        "example_transforms = transforms.Compose([\n",
        "    transforms.Resize((IMG_SIZE, IMG_SIZE)),\n",
        "    transforms.ToTensor(),\n",
        "    transforms.Lambda(lambda x: (x.repeat(3, 1, 1) if x.size(0)==1 else x)), # Turns to RGB\n",
        "])           \n",
        "data_folder = 'datasets'\n",
        "\n",
        "BATCH_SIZE = 3\n",
        "NUM_WORKERS = 2\n",
        "total_images = 2500\n",
        "test_proportion = 0.2\n",
        "dataset_name = \"FashionMNIST\"\n",
        "\n",
        "train_dataloader, test_dataloader, class_names = prepare_loaders(data_folder, dataset_name, total_images, test_proportion, example_transforms, BATCH_SIZE, NUM_WORKERS)\n",
        "print(len(train_dataloader.dataset.indices), len(test_dataloader.dataset.indices), len(class_names))"
      ]
    },
    {
      "cell_type": "code",
      "execution_count": null,
      "metadata": {
        "colab": {
          "base_uri": "https://localhost:8080/",
          "height": 264
        },
        "id": "QfOkRAQoS517",
        "outputId": "0cc911f2-d931-49a0-c6be-b8c179cdb17e"
      },
      "outputs": [
        {
          "data": {
            "image/png": "[encoded data removed]",
            "text/plain": [
              "<Figure size 432x288 with 1 Axes>"
            ]
          },
          "metadata": {},
          "output_type": "display_data"
        }
      ],
      "source": [
        "# Plot image with matplotlib\n",
        "image_batch, label_batch = next(iter(train_dataloader)) # Get a batch of images\n",
        "image, label = image_batch[0], label_batch[0] # Get a single image from the batch\n",
        "image.shape, label # View the batch shapes\n",
        "plt.imshow(image.permute(1, 2, 0)) # rearrange image dimensions to suit matplotlib [color_channels, height, width] -> [height, width, color_channels]\n",
        "plt.title(class_names[label])\n",
        "plt.axis(False);"
      ]
    },
    {
      "cell_type": "code",
      "execution_count": null,
      "metadata": {
        "id": "jT8ON8wjTUKW"
      },
      "outputs": [],
      "source": [
        "def ViT_Streamline(total_images, test_proportion, dataset_name):\n",
        "\n",
        "    # Pretrained ViT (Standard)\n",
        "\n",
        "    vit_weights = torchvision.models.ViT_B_16_Weights.DEFAULT # \"DEFAULT\" means best available\n",
        "    pretrained_vit = torchvision.models.vit_b_16(weights=vit_weights)\n",
        "\n",
        "    IMG_SIZE = 224 \n",
        "    vit_transforms = transforms.Compose([\n",
        "        transforms.Resize((IMG_SIZE, IMG_SIZE)),\n",
        "        transforms.ToTensor(),\n",
        "        transforms.Lambda(lambda x: (x.repeat(3, 1, 1) if x.size(0)==1 else x)), # Turns to RGB\n",
        "    ])\n",
        "\n",
        "    BATCH_SIZE = 32\n",
        "    NUM_WORKERS = 2\n",
        "\n",
        "    train_dataloader, test_dataloader, class_names = prepare_loaders(data_folder, dataset_name, total_images, test_proportion, vit_transforms, BATCH_SIZE, NUM_WORKERS)\n",
        "    print(len(train_dataloader.dataset.indices), len(test_dataloader.dataset.indices), len(class_names))\n",
        "\n",
        "    pretrained_vit, model_summary = prepare_model(pretrained_vit, len(class_names))\n",
        "    # print(model_summary)\n",
        "\n",
        "    # Train a pretrained ViT feature extractor\n",
        "    optimizer = torch.optim.Adam(params=pretrained_vit.parameters(), lr=1e-3)\n",
        "    loss_fn = torch.nn.CrossEntropyLoss()\n",
        "    set_seeds()\n",
        "\n",
        "    epochs = 20\n",
        "    pretrained_vit_results = engine.train(model=pretrained_vit, train_dataloader=train_dataloader, test_dataloader=test_dataloader,\n",
        "                                        optimizer=optimizer, loss_fn=loss_fn, epochs=epochs, device=device)\n",
        "\n",
        "    print(\"\")\n",
        "    # plot_loss_curves(pretrained_vit_results)\n",
        "\n",
        "    svit_backbone_weights = torchvision.models.ViT_B_16_Weights.DEFAULT # \"DEFAULT\" means best available\n",
        "\n",
        "    IMG_SIZE = 224 \n",
        "    vit_transforms = transforms.Compose([\n",
        "        transforms.Resize((IMG_SIZE, IMG_SIZE)),\n",
        "        transforms.ToTensor(),\n",
        "        transforms.Lambda(lambda x: (x.repeat(3, 1, 1) if x.size(0)==1 else x)), # Turns to RGB\n",
        "    ])\n",
        "\n",
        "    BATCH_SIZE = 32\n",
        "    NUM_WORKERS = 2\n",
        "\n",
        "    train_dataloader, test_dataloader, class_names = prepare_loaders(data_folder, dataset_name, total_images, test_proportion, vit_transforms, BATCH_SIZE, NUM_WORKERS)\n",
        "    print(len(train_dataloader.dataset.indices), len(test_dataloader.dataset.indices), len(class_names))\n",
        "\n",
        "    # Pretrained SVM-ViT (Standard)\n",
        "    svit_backbone = torchvision.models.vit_b_16(weights=svit_backbone_weights)\n",
        "    svit_backbone, model_summary = prepare_model(svit_backbone)\n",
        "\n",
        "    svit = SViT(svit_backbone)\n",
        "\n",
        "    fit_results = svit.fit(train_dataloader)\n",
        "    score_results = svit.score(test_dataloader)\n",
        "    print(score_results)"
      ]
    },
    {
      "cell_type": "code",
      "execution_count": null,
      "metadata": {
        "id": "o7azIMhkTkGd"
      },
      "outputs": [],
      "source": [
        "def SWAG_Streamline(total_images, test_proportion, dataset_name):\n",
        "\n",
        "    # Pretrained ViT (SWAG)\n",
        "\n",
        "    vit_weights_swag = torchvision.models.ViT_B_16_Weights.IMAGENET1K_SWAG_E2E_V1 # get SWAG weights\n",
        "    pretrained_vit_swag = torchvision.models.vit_b_16(weights=vit_weights_swag)\n",
        "\n",
        "    swag_transforms = transforms.Compose([\n",
        "        transforms.Lambda(lambda x: x.convert('RGB')), # Turns to RGB\n",
        "        vit_weights_swag.transforms()\n",
        "    ])\n",
        "\n",
        "    BATCH_SIZE = 32\n",
        "    NUM_WORKERS = 2\n",
        "\n",
        "    train_dataloader, test_dataloader, class_names = prepare_loaders(data_folder, dataset_name, total_images, test_proportion, swag_transforms, BATCH_SIZE, NUM_WORKERS)\n",
        "    print(len(train_dataloader.dataset.indices), len(test_dataloader.dataset.indices), len(class_names))\n",
        "\n",
        "    pretrained_vit_swag, model_summary = prepare_model(pretrained_vit_swag, len(class_names))\n",
        "    # print(model_summary)\n",
        "\n",
        "    # Train a pretrained ViT feature extractor with SWAG weights\n",
        "    optimizer = torch.optim.Adam(params=pretrained_vit_swag.parameters(), lr=1e-3)\n",
        "    loss_fn = torch.nn.CrossEntropyLoss() \n",
        "    set_seeds()\n",
        "\n",
        "    epochs = 20\n",
        "    pretrained_vit_swag_results = engine.train(model=pretrained_vit_swag, train_dataloader=train_dataloader, test_dataloader=test_dataloader,\n",
        "                                        optimizer=optimizer, loss_fn=loss_fn, epochs=epochs, device=device)\n",
        "\n",
        "    print(\"\")\n",
        "    # plot_loss_curves(pretrained_vit_swag_results)\n",
        "\n",
        "    svit_swag_backbone_weights = torchvision.models.ViT_B_16_Weights.IMAGENET1K_SWAG_E2E_V1 # get SWAG weights\n",
        "\n",
        "    swag_transforms = transforms.Compose([\n",
        "        transforms.Lambda(lambda x: x.convert('RGB')), # Turns to RGB\n",
        "        svit_swag_backbone_weights.transforms()\n",
        "    ])\n",
        "\n",
        "    BATCH_SIZE = 32\n",
        "    NUM_WORKERS = 2\n",
        "\n",
        "    train_dataloader, test_dataloader, class_names = prepare_loaders(data_folder, dataset_name, total_images, test_proportion, swag_transforms, BATCH_SIZE, NUM_WORKERS)\n",
        "    print(len(train_dataloader.dataset.indices), len(test_dataloader.dataset.indices), len(class_names))\n",
        "\n",
        "    # Pretrained SVM-ViT (\u0010SWAG)\n",
        "    svit_swag_backbone = torchvision.models.vit_b_16(weights=svit_swag_backbone_weights)\n",
        "    svit_swag_backbone, model_summary = prepare_model(svit_swag_backbone)\n",
        "\n",
        "    svit_swag = SViT(svit_swag_backbone)\n",
        "\n",
        "    fit_results = svit_swag.fit(train_dataloader)\n",
        "    score_results = svit_swag.score(test_dataloader)\n",
        "    print(score_results)"
      ]
    },
    {
      "cell_type": "code",
      "execution_count": null,
      "metadata": {
        "colab": {
          "base_uri": "https://localhost:8080/"
        },
        "id": "_tfoZ_LvXPH-",
        "outputId": "06c1ef0e-0981-4969-bad6-12d572e2f370"
      },
      "outputs": [
        {
          "output_type": "execute_result",
          "data": {
            "text/plain": [
              "[[10000, 0.5, 'CIFAR100'],\n",
              " [20000, 0.25, 'CIFAR100'],\n",
              " [30000, 0.16666666666666666, 'CIFAR100'],\n",
              " [40000, 0.125, 'CIFAR100'],\n",
              " [None, 0.1, 'CIFAR100']]"
            ]
          },
          "metadata": {},
          "execution_count": 1
        }
      ],
      "source": [
        "dataset = \"CIFAR100\"\n",
        "sets = [[(i+1)*10000, 1/((i*2)+2), dataset] for i in range(5)]\n",
        "sets[4][0] = None\n",
        "sets"
      ]
    },
    {
      "cell_type": "code",
      "execution_count": null,
      "metadata": {
        "colab": {
          "base_uri": "https://localhost:8080/",
          "height": 389,
          "referenced_widgets": [
            "4e036bfb4d5b4459be513ac4a4fc7ad2",
            "cdeb19c7ee6647b8b7e8c29b2f8f5c32",
            "2eeb1c3e98ee468588a1d699071c43a7",
            "1fd04e34ad1b4161950bbf020c34733c",
            "fab063369f99427c89275c1bca19c161",
            "354de4d686094d8d9d5ace903405ee18",
            "b4a01c6c6e0f4b86b96395806ceb906c",
            "339294a5cff740749514d3755b35fc5c",
            "292b2a28535d4941970e2574a329c27c",
            "29529ce3788e4a579fd41a2190786fcd",
            "fe8fc9229c784400be0274bcac0bb746"
          ]
        },
        "id": "tc_T-KcXXjdz",
        "outputId": "c63ee497-e55c-44ce-abca-12cdebefb9f7"
      },
      "outputs": [
        {
          "name": "stdout",
          "output_type": "stream",
          "text": [
            "Files already downloaded and verified\n",
            "Files already downloaded and verified\n",
            "10000 5000 10\n"
          ]
        },
        {
          "data": {
            "application/vnd.jupyter.widget-view+json": {
              "model_id": "4e036bfb4d5b4459be513ac4a4fc7ad2",
              "version_major": 2,
              "version_minor": 0
            },
            "text/plain": [
              "  0%|          | 0/10 [00:00<?, ?it/s]"
            ]
          },
          "metadata": {},
          "output_type": "display_data"
        },
        {
          "name": "stdout",
          "output_type": "stream",
          "text": [
            "Epoch: 1 | train_loss: 0.5278 | train_acc: 0.8510 | test_loss: 0.3245 | test_acc: 0.8981\n",
            "Epoch: 2 | train_loss: 0.2935 | train_acc: 0.9053 | test_loss: 0.2941 | test_acc: 0.9029\n",
            "Epoch: 3 | train_loss: 0.2474 | train_acc: 0.9216 | test_loss: 0.2867 | test_acc: 0.9049\n",
            "Epoch: 4 | train_loss: 0.2194 | train_acc: 0.9309 | test_loss: 0.2827 | test_acc: 0.9074\n",
            "Epoch: 5 | train_loss: 0.1999 | train_acc: 0.9365 | test_loss: 0.2813 | test_acc: 0.9062\n",
            "Epoch: 6 | train_loss: 0.1815 | train_acc: 0.9385 | test_loss: 0.2777 | test_acc: 0.9047\n",
            "Epoch: 7 | train_loss: 0.1690 | train_acc: 0.9452 | test_loss: 0.2761 | test_acc: 0.9070\n",
            "Epoch: 8 | train_loss: 0.1577 | train_acc: 0.9498 | test_loss: 0.2738 | test_acc: 0.9100\n",
            "Epoch: 9 | train_loss: 0.1471 | train_acc: 0.9538 | test_loss: 0.2828 | test_acc: 0.9043\n",
            "Epoch: 10 | train_loss: 0.1389 | train_acc: 0.9573 | test_loss: 0.2827 | test_acc: 0.9078\n",
            "\n",
            "Files already downloaded and verified\n",
            "Files already downloaded and verified\n",
            "10000 5000 10\n"
          ]
        },
        {
          "name": "stderr",
          "output_type": "stream",
          "text": [
            "100%|██████████| 313/313 [00:36<00:00,  8.69it/s]\n",
            "100%|██████████| 157/157 [00:18<00:00,  8.70it/s]\n"
          ]
        },
        {
          "name": "stdout",
          "output_type": "stream",
          "text": [
            "0.9146\n"
          ]
        }
      ],
      "source": [
        "ViT_Streamline(*sets[0])"
      ]
    },
    {
      "cell_type": "code",
      "execution_count": null,
      "metadata": {
        "colab": {
          "background_save": true,
          "base_uri": "https://localhost:8080/",
          "height": 372,
          "referenced_widgets": [
            "7c3fcabe03b94feaaa313345fd8fac09"
          ]
        },
        "id": "xfkW0FS0YFwa",
        "outputId": "51dd5235-65fe-4650-ed68-85d24491fa6f"
      },
      "outputs": [
        {
          "name": "stdout",
          "output_type": "stream",
          "text": [
            "Files already downloaded and verified\n",
            "Files already downloaded and verified\n",
            "10000 5000 100\n"
          ]
        },
        {
          "data": {
            "application/vnd.jupyter.widget-view+json": {
              "model_id": "7c3fcabe03b94feaaa313345fd8fac09",
              "version_major": 2,
              "version_minor": 0
            },
            "text/plain": [
              "  0%|          | 0/5 [00:00<?, ?it/s]"
            ]
          },
          "metadata": {},
          "output_type": "display_data"
        },
        {
          "name": "stdout",
          "output_type": "stream",
          "text": [
            "Epoch: 1 | train_loss: 1.2268 | train_acc: 0.6909 | test_loss: 0.7561 | test_acc: 0.7803\n",
            "Epoch: 2 | train_loss: 0.4832 | train_acc: 0.8570 | test_loss: 0.7037 | test_acc: 0.7990\n",
            "Epoch: 3 | train_loss: 0.3077 | train_acc: 0.9133 | test_loss: 0.7106 | test_acc: 0.7954\n",
            "Epoch: 4 | train_loss: 0.2022 | train_acc: 0.9473 | test_loss: 0.7073 | test_acc: 0.7980\n",
            "Epoch: 5 | train_loss: 0.1416 | train_acc: 0.9686 | test_loss: 0.7354 | test_acc: 0.8006\n",
            "\n",
            "Files already downloaded and verified\n",
            "Files already downloaded and verified\n",
            "10000 5000 100\n"
          ]
        },
        {
          "name": "stderr",
          "output_type": "stream",
          "text": [
            "100%|██████████| 313/313 [01:50<00:00,  2.82it/s]\n",
            "100%|██████████| 157/157 [00:55<00:00,  2.83it/s]\n"
          ]
        },
        {
          "name": "stdout",
          "output_type": "stream",
          "text": [
            "0.8064\n"
          ]
        }
      ],
      "source": [
        "SWAG_Streamline(*sets[0])"
      ]
    },
    {
      "cell_type": "code",
      "execution_count": null,
      "metadata": {
        "colab": {
          "background_save": true,
          "referenced_widgets": [
            "38aef54dd99a49e8827d296ae8c52610"
          ]
        },
        "id": "JZRsWUgGYI_x",
        "outputId": "6e59f5d8-dacf-4f6f-fc5f-f818e078892f"
      },
      "outputs": [
        {
          "name": "stdout",
          "output_type": "stream",
          "text": [
            "Files already downloaded and verified\n",
            "Files already downloaded and verified\n",
            "20000 5000 100\n"
          ]
        },
        {
          "data": {
            "application/vnd.jupyter.widget-view+json": {
              "model_id": "38aef54dd99a49e8827d296ae8c52610",
              "version_major": 2,
              "version_minor": 0
            },
            "text/plain": [
              "  0%|          | 0/5 [00:00<?, ?it/s]"
            ]
          },
          "metadata": {},
          "output_type": "display_data"
        },
        {
          "name": "stdout",
          "output_type": "stream",
          "text": [
            "Epoch: 1 | train_loss: 1.6561 | train_acc: 0.6057 | test_loss: 1.1375 | test_acc: 0.6823\n",
            "Epoch: 2 | train_loss: 0.9305 | train_acc: 0.7372 | test_loss: 1.0424 | test_acc: 0.7080\n",
            "Epoch: 3 | train_loss: 0.7625 | train_acc: 0.7832 | test_loss: 0.9886 | test_acc: 0.7253\n",
            "Epoch: 4 | train_loss: 0.6519 | train_acc: 0.8123 | test_loss: 0.9745 | test_acc: 0.7249\n",
            "Epoch: 5 | train_loss: 0.5712 | train_acc: 0.8355 | test_loss: 0.9903 | test_acc: 0.7195\n",
            "\n",
            "Files already downloaded and verified\n",
            "Files already downloaded and verified\n",
            "20000 5000 100\n"
          ]
        },
        {
          "name": "stderr",
          "output_type": "stream",
          "text": [
            "100%|██████████| 625/625 [01:12<00:00,  8.64it/s]\n",
            "100%|██████████| 157/157 [00:18<00:00,  8.68it/s]\n"
          ]
        },
        {
          "name": "stdout",
          "output_type": "stream",
          "text": [
            "0.7224\n"
          ]
        }
      ],
      "source": [
        "ViT_Streamline(*sets[1])"
      ]
    },
    {
      "cell_type": "code",
      "execution_count": null,
      "metadata": {
        "colab": {
          "background_save": true,
          "referenced_widgets": [
            "6064cb0241c44c1f987d21fc8ff98c2e"
          ]
        },
        "id": "XC3gYUEgYJHZ",
        "outputId": "d13bbc00-708d-4c6c-8de3-5890c0d6c245"
      },
      "outputs": [
        {
          "name": "stdout",
          "output_type": "stream",
          "text": [
            "Files already downloaded and verified\n",
            "Files already downloaded and verified\n",
            "20000 5000 100\n"
          ]
        },
        {
          "data": {
            "application/vnd.jupyter.widget-view+json": {
              "model_id": "6064cb0241c44c1f987d21fc8ff98c2e",
              "version_major": 2,
              "version_minor": 0
            },
            "text/plain": [
              "  0%|          | 0/9 [00:00<?, ?it/s]"
            ]
          },
          "metadata": {},
          "output_type": "display_data"
        },
        {
          "name": "stdout",
          "output_type": "stream",
          "text": [
            "Epoch: 1 | train_loss: 0.9873 | train_acc: 0.7386 | test_loss: 0.7087 | test_acc: 0.7864\n",
            "Epoch: 2 | train_loss: 0.4883 | train_acc: 0.8545 | test_loss: 0.6785 | test_acc: 0.8049\n",
            "Epoch: 3 | train_loss: 0.3511 | train_acc: 0.8904 | test_loss: 0.6953 | test_acc: 0.8051\n",
            "Epoch: 4 | train_loss: 0.2636 | train_acc: 0.9187 | test_loss: 0.7023 | test_acc: 0.8055\n",
            "Epoch: 5 | train_loss: 0.2003 | train_acc: 0.9391 | test_loss: 0.7492 | test_acc: 0.8053\n",
            "Epoch: 6 | train_loss: 0.1577 | train_acc: 0.9516 | test_loss: 0.7587 | test_acc: 0.8031\n",
            "Epoch: 7 | train_loss: 0.1291 | train_acc: 0.9641 | test_loss: 0.7913 | test_acc: 0.8087\n",
            "Epoch: 8 | train_loss: 0.1042 | train_acc: 0.9715 | test_loss: 0.8309 | test_acc: 0.8016\n",
            "Epoch: 9 | train_loss: 0.0895 | train_acc: 0.9758 | test_loss: 0.8506 | test_acc: 0.7976\n",
            "\n",
            "Files already downloaded and verified\n",
            "Files already downloaded and verified\n",
            "20000 5000 100\n"
          ]
        },
        {
          "name": "stderr",
          "output_type": "stream",
          "text": [
            "100%|██████████| 625/625 [02:48<00:00,  3.71it/s]\n",
            "100%|██████████| 157/157 [00:42<00:00,  3.70it/s]\n"
          ]
        },
        {
          "name": "stdout",
          "output_type": "stream",
          "text": [
            "0.8312\n"
          ]
        }
      ],
      "source": [
        "SWAG_Streamline(*sets[1])"
      ]
    },
    {
      "cell_type": "code",
      "execution_count": null,
      "metadata": {
        "colab": {
          "background_save": true,
          "referenced_widgets": [
            "26c821f519de497d9b71055fde98e2a8"
          ]
        },
        "id": "aDVDqfGZYU1y",
        "outputId": "6fd671ee-efdb-4a69-cdd2-fff0b2eb5653"
      },
      "outputs": [
        {
          "name": "stdout",
          "output_type": "stream",
          "text": [
            "Files already downloaded and verified\n",
            "Files already downloaded and verified\n",
            "30000 5000 100\n"
          ]
        },
        {
          "data": {
            "application/vnd.jupyter.widget-view+json": {
              "model_id": "26c821f519de497d9b71055fde98e2a8",
              "version_major": 2,
              "version_minor": 0
            },
            "text/plain": [
              "  0%|          | 0/8 [00:00<?, ?it/s]"
            ]
          },
          "metadata": {},
          "output_type": "display_data"
        },
        {
          "name": "stdout",
          "output_type": "stream",
          "text": [
            "Epoch: 1 | train_loss: 1.4732 | train_acc: 0.6312 | test_loss: 1.0750 | test_acc: 0.6988\n",
            "Epoch: 2 | train_loss: 0.8792 | train_acc: 0.7493 | test_loss: 0.9963 | test_acc: 0.7193\n",
            "Epoch: 3 | train_loss: 0.7377 | train_acc: 0.7858 | test_loss: 0.9507 | test_acc: 0.7261\n",
            "Epoch: 4 | train_loss: 0.6460 | train_acc: 0.8097 | test_loss: 0.9657 | test_acc: 0.7247\n",
            "Epoch: 5 | train_loss: 0.5758 | train_acc: 0.8315 | test_loss: 0.9375 | test_acc: 0.7293\n",
            "Epoch: 6 | train_loss: 0.5198 | train_acc: 0.8460 | test_loss: 0.9747 | test_acc: 0.7317\n",
            "Epoch: 7 | train_loss: 0.4735 | train_acc: 0.8606 | test_loss: 0.9618 | test_acc: 0.7311\n",
            "Epoch: 8 | train_loss: 0.4349 | train_acc: 0.8730 | test_loss: 0.9923 | test_acc: 0.7275\n",
            "\n",
            "Files already downloaded and verified\n",
            "Files already downloaded and verified\n",
            "30000 5000 100\n"
          ]
        },
        {
          "name": "stderr",
          "output_type": "stream",
          "text": [
            "100%|██████████| 938/938 [01:20<00:00, 11.66it/s]\n",
            "100%|██████████| 157/157 [00:13<00:00, 11.53it/s]\n"
          ]
        },
        {
          "name": "stdout",
          "output_type": "stream",
          "text": [
            "0.734\n"
          ]
        }
      ],
      "source": [
        "ViT_Streamline(*sets[2])"
      ]
    },
    {
      "cell_type": "code",
      "execution_count": null,
      "metadata": {
        "colab": {
          "background_save": true,
          "referenced_widgets": [
            "4c3171dae48f4118b6448dd0641fe83f"
          ]
        },
        "id": "rqXvHJRmYU4u",
        "outputId": "79824fc1-b032-4940-f6d0-50bcf900b2ab"
      },
      "outputs": [
        {
          "name": "stdout",
          "output_type": "stream",
          "text": [
            "Files already downloaded and verified\n",
            "Files already downloaded and verified\n",
            "30000 5000 100\n"
          ]
        },
        {
          "data": {
            "application/vnd.jupyter.widget-view+json": {
              "model_id": "4c3171dae48f4118b6448dd0641fe83f",
              "version_major": 2,
              "version_minor": 0
            },
            "text/plain": [
              "  0%|          | 0/8 [00:00<?, ?it/s]"
            ]
          },
          "metadata": {},
          "output_type": "display_data"
        },
        {
          "name": "stdout",
          "output_type": "stream",
          "text": [
            "Epoch: 1 | train_loss: 0.8926 | train_acc: 0.7578 | test_loss: 0.6413 | test_acc: 0.8199\n",
            "Epoch: 2 | train_loss: 0.4974 | train_acc: 0.8499 | test_loss: 0.6646 | test_acc: 0.8179\n",
            "Epoch: 3 | train_loss: 0.3760 | train_acc: 0.8855 | test_loss: 0.7195 | test_acc: 0.8039\n",
            "Epoch: 4 | train_loss: 0.3064 | train_acc: 0.9034 | test_loss: 0.7223 | test_acc: 0.8035\n",
            "Epoch: 5 | train_loss: 0.2492 | train_acc: 0.9212 | test_loss: 0.7826 | test_acc: 0.8021\n",
            "Epoch: 6 | train_loss: 0.2138 | train_acc: 0.9312 | test_loss: 0.7623 | test_acc: 0.8131\n",
            "Epoch: 7 | train_loss: 0.1804 | train_acc: 0.9414 | test_loss: 0.7898 | test_acc: 0.8115\n",
            "Epoch: 8 | train_loss: 0.1539 | train_acc: 0.9504 | test_loss: 0.8316 | test_acc: 0.8063\n",
            "\n",
            "Files already downloaded and verified\n",
            "Files already downloaded and verified\n",
            "30000 5000 100\n"
          ]
        },
        {
          "name": "stderr",
          "output_type": "stream",
          "text": [
            "100%|██████████| 938/938 [04:12<00:00,  3.71it/s]\n",
            "100%|██████████| 157/157 [00:42<00:00,  3.70it/s]\n"
          ]
        },
        {
          "name": "stdout",
          "output_type": "stream",
          "text": [
            "0.8348\n"
          ]
        }
      ],
      "source": [
        "SWAG_Streamline(*sets[2])"
      ]
    },
    {
      "cell_type": "code",
      "execution_count": null,
      "metadata": {
        "colab": {
          "background_save": true,
          "referenced_widgets": [
            "9d6909dcb4c34119a977599a835d2e02"
          ]
        },
        "id": "gHR2Peo6YVDh",
        "outputId": "aee61774-868f-45ec-f048-67996923f6dc"
      },
      "outputs": [
        {
          "name": "stdout",
          "output_type": "stream",
          "text": [
            "Files already downloaded and verified\n",
            "Files already downloaded and verified\n",
            "40000 5000 100\n"
          ]
        },
        {
          "data": {
            "application/vnd.jupyter.widget-view+json": {
              "model_id": "9d6909dcb4c34119a977599a835d2e02",
              "version_major": 2,
              "version_minor": 0
            },
            "text/plain": [
              "  0%|          | 0/7 [00:00<?, ?it/s]"
            ]
          },
          "metadata": {},
          "output_type": "display_data"
        },
        {
          "name": "stdout",
          "output_type": "stream",
          "text": [
            "Epoch: 1 | train_loss: 1.3548 | train_acc: 0.6528 | test_loss: 1.0163 | test_acc: 0.7100\n",
            "Epoch: 2 | train_loss: 0.8526 | train_acc: 0.7544 | test_loss: 0.9785 | test_acc: 0.7217\n",
            "Epoch: 3 | train_loss: 0.7280 | train_acc: 0.7864 | test_loss: 0.9235 | test_acc: 0.7331\n",
            "Epoch: 4 | train_loss: 0.6450 | train_acc: 0.8104 | test_loss: 0.9204 | test_acc: 0.7379\n",
            "Epoch: 5 | train_loss: 0.5812 | train_acc: 0.8286 | test_loss: 0.9238 | test_acc: 0.7377\n",
            "Epoch: 6 | train_loss: 0.5337 | train_acc: 0.8413 | test_loss: 0.9336 | test_acc: 0.7327\n",
            "Epoch: 7 | train_loss: 0.4929 | train_acc: 0.8539 | test_loss: 0.9546 | test_acc: 0.7396\n",
            "\n",
            "Files already downloaded and verified\n",
            "Files already downloaded and verified\n",
            "40000 5000 100\n"
          ]
        },
        {
          "name": "stderr",
          "output_type": "stream",
          "text": [
            "100%|██████████| 1250/1250 [01:47<00:00, 11.66it/s]\n",
            "100%|██████████| 157/157 [00:13<00:00, 11.55it/s]\n"
          ]
        },
        {
          "name": "stdout",
          "output_type": "stream",
          "text": [
            "0.744\n"
          ]
        }
      ],
      "source": [
        "ViT_Streamline(*sets[3])"
      ]
    },
    {
      "cell_type": "code",
      "execution_count": null,
      "metadata": {
        "colab": {
          "background_save": true,
          "referenced_widgets": [
            "35e0288f759248c4b258772dfdde1ed9"
          ]
        },
        "id": "Gt50N6aIYVGQ",
        "outputId": "cd0b5286-d856-4bd3-cf2a-01984e15f56b"
      },
      "outputs": [
        {
          "name": "stdout",
          "output_type": "stream",
          "text": [
            "Files already downloaded and verified\n",
            "Files already downloaded and verified\n",
            "40000 5000 100\n"
          ]
        },
        {
          "data": {
            "application/vnd.jupyter.widget-view+json": {
              "model_id": "35e0288f759248c4b258772dfdde1ed9",
              "version_major": 2,
              "version_minor": 0
            },
            "text/plain": [
              "  0%|          | 0/7 [00:00<?, ?it/s]"
            ]
          },
          "metadata": {},
          "output_type": "display_data"
        },
        {
          "name": "stdout",
          "output_type": "stream",
          "text": [
            "Epoch: 1 | train_loss: 0.8411 | train_acc: 0.7678 | test_loss: 0.6715 | test_acc: 0.8077\n",
            "Epoch: 2 | train_loss: 0.5040 | train_acc: 0.8494 | test_loss: 0.6865 | test_acc: 0.8099\n",
            "Epoch: 3 | train_loss: 0.3983 | train_acc: 0.8786 | test_loss: 0.6961 | test_acc: 0.8125\n",
            "Epoch: 4 | train_loss: 0.3378 | train_acc: 0.8939 | test_loss: 0.6916 | test_acc: 0.8225\n",
            "Epoch: 5 | train_loss: 0.2811 | train_acc: 0.9103 | test_loss: 0.7481 | test_acc: 0.8157\n",
            "Epoch: 6 | train_loss: 0.2481 | train_acc: 0.9205 | test_loss: 0.7476 | test_acc: 0.8119\n",
            "Epoch: 7 | train_loss: 0.2180 | train_acc: 0.9291 | test_loss: 0.7754 | test_acc: 0.8141\n",
            "\n",
            "Files already downloaded and verified\n",
            "Files already downloaded and verified\n",
            "40000 5000 100\n"
          ]
        },
        {
          "name": "stderr",
          "output_type": "stream",
          "text": [
            "100%|██████████| 1250/1250 [05:36<00:00,  3.71it/s]\n",
            "100%|██████████| 157/157 [00:42<00:00,  3.70it/s]\n"
          ]
        },
        {
          "name": "stdout",
          "output_type": "stream",
          "text": [
            "0.8428\n"
          ]
        }
      ],
      "source": [
        "SWAG_Streamline(*sets[3])"
      ]
    },
    {
      "cell_type": "code",
      "execution_count": null,
      "metadata": {
        "colab": {
          "background_save": true,
          "referenced_widgets": [
            "0fb18a35798c44b1b842cbad4db35fe6"
          ]
        },
        "id": "EPdRZDoEYab0",
        "outputId": "1aad16a9-261b-4086-8dee-a5b5f09a666d"
      },
      "outputs": [
        {
          "name": "stdout",
          "output_type": "stream",
          "text": [
            "Files already downloaded and verified\n",
            "Files already downloaded and verified\n",
            "50000 5000 100\n"
          ]
        },
        {
          "data": {
            "application/vnd.jupyter.widget-view+json": {
              "model_id": "0fb18a35798c44b1b842cbad4db35fe6",
              "version_major": 2,
              "version_minor": 0
            },
            "text/plain": [
              "  0%|          | 0/6 [00:00<?, ?it/s]"
            ]
          },
          "metadata": {},
          "output_type": "display_data"
        },
        {
          "name": "stdout",
          "output_type": "stream",
          "text": [
            "Epoch: 1 | train_loss: 1.2799 | train_acc: 0.6672 | test_loss: 0.9915 | test_acc: 0.7176\n",
            "Epoch: 2 | train_loss: 0.8342 | train_acc: 0.7592 | test_loss: 0.9151 | test_acc: 0.7369\n",
            "Epoch: 3 | train_loss: 0.7219 | train_acc: 0.7871 | test_loss: 0.9118 | test_acc: 0.7436\n",
            "Epoch: 4 | train_loss: 0.6473 | train_acc: 0.8077 | test_loss: 0.9135 | test_acc: 0.7430\n",
            "Epoch: 5 | train_loss: 0.5891 | train_acc: 0.8236 | test_loss: 0.9339 | test_acc: 0.7412\n",
            "Epoch: 6 | train_loss: 0.5466 | train_acc: 0.8382 | test_loss: 0.9251 | test_acc: 0.7450\n",
            "\n",
            "Files already downloaded and verified\n",
            "Files already downloaded and verified\n",
            "50000 5000 100\n"
          ]
        },
        {
          "name": "stderr",
          "output_type": "stream",
          "text": [
            "100%|██████████| 1563/1563 [02:13<00:00, 11.67it/s]\n",
            "100%|██████████| 157/157 [00:13<00:00, 11.53it/s]\n"
          ]
        },
        {
          "name": "stdout",
          "output_type": "stream",
          "text": [
            "0.7528\n"
          ]
        }
      ],
      "source": [
        "ViT_Streamline(*sets[4])"
      ]
    },
    {
      "cell_type": "code",
      "execution_count": null,
      "metadata": {
        "colab": {
          "background_save": true,
          "referenced_widgets": [
            "44c66c7b2be84264a9957f5a50c6cc4b"
          ]
        },
        "id": "Ce4xqZO_Yanh",
        "outputId": "d353b4c6-ac4b-4234-cbd4-b05ad6dfec0f"
      },
      "outputs": [
        {
          "name": "stdout",
          "output_type": "stream",
          "text": [
            "Files already downloaded and verified\n",
            "Files already downloaded and verified\n",
            "50000 5000 100\n"
          ]
        },
        {
          "data": {
            "application/vnd.jupyter.widget-view+json": {
              "model_id": "44c66c7b2be84264a9957f5a50c6cc4b",
              "version_major": 2,
              "version_minor": 0
            },
            "text/plain": [
              "  0%|          | 0/6 [00:00<?, ?it/s]"
            ]
          },
          "metadata": {},
          "output_type": "display_data"
        },
        {
          "name": "stdout",
          "output_type": "stream",
          "text": [
            "Epoch: 1 | train_loss: 0.7970 | train_acc: 0.7775 | test_loss: 0.6374 | test_acc: 0.8163\n",
            "Epoch: 2 | train_loss: 0.5086 | train_acc: 0.8478 | test_loss: 0.6420 | test_acc: 0.8229\n",
            "Epoch: 3 | train_loss: 0.4159 | train_acc: 0.8726 | test_loss: 0.6706 | test_acc: 0.8205\n",
            "Epoch: 4 | train_loss: 0.3553 | train_acc: 0.8906 | test_loss: 0.7470 | test_acc: 0.8153\n",
            "Epoch: 5 | train_loss: 0.3093 | train_acc: 0.9011 | test_loss: 0.7449 | test_acc: 0.8195\n",
            "Epoch: 6 | train_loss: 0.2696 | train_acc: 0.9127 | test_loss: 0.7835 | test_acc: 0.8123\n",
            "\n",
            "Files already downloaded and verified\n",
            "Files already downloaded and verified\n",
            "50000 5000 100\n"
          ]
        },
        {
          "name": "stderr",
          "output_type": "stream",
          "text": [
            "100%|██████████| 1563/1563 [07:01<00:00,  3.71it/s]\n",
            "100%|██████████| 157/157 [00:42<00:00,  3.70it/s]\n"
          ]
        },
        {
          "name": "stdout",
          "output_type": "stream",
          "text": [
            "0.841\n"
          ]
        }
      ],
      "source": [
        "SWAG_Streamline(*sets[4])"
      ]
    }
  ],
  "metadata": {
    "accelerator": "GPU",
    "colab": {
      "machine_shape": "hm",
      "provenance": []
    },
    "gpuClass": "premium",
    "kernelspec": {
      "display_name": "Python 3",
      "name": "python3"
    },
    "language_info": {
      "name": "python"
    },
    "widgets": {
      "application/vnd.jupyter.widget-state+json": {
        "1fd04e34ad1b4161950bbf020c34733c": {
          "model_module": "@jupyter-widgets/controls",
          "model_module_version": "1.5.0",
          "model_name": "HTMLModel",
          "state": {
            "_dom_classes": [],
            "_model_module": "@jupyter-widgets/controls",
            "_model_module_version": "1.5.0",
            "_model_name": "HTMLModel",
            "_view_count": null,
            "_view_module": "@jupyter-widgets/controls",
            "_view_module_version": "1.5.0",
            "_view_name": "HTMLView",
            "description": "",
            "description_tooltip": null,
            "layout": "IPY_MODEL_29529ce3788e4a579fd41a2190786fcd",
            "placeholder": "​",
            "style": "IPY_MODEL_fe8fc9229c784400be0274bcac0bb746",
            "value": " 10/10 [08:45&lt;00:00, 52.55s/it]"
          }
        },
        "292b2a28535d4941970e2574a329c27c": {
          "model_module": "@jupyter-widgets/controls",
          "model_module_version": "1.5.0",
          "model_name": "ProgressStyleModel",
          "state": {
            "_model_module": "@jupyter-widgets/controls",
            "_model_module_version": "1.5.0",
            "_model_name": "ProgressStyleModel",
            "_view_count": null,
            "_view_module": "@jupyter-widgets/base",
            "_view_module_version": "1.2.0",
            "_view_name": "StyleView",
            "bar_color": null,
            "description_width": ""
          }
        },
        "29529ce3788e4a579fd41a2190786fcd": {
          "model_module": "@jupyter-widgets/base",
          "model_module_version": "1.2.0",
          "model_name": "LayoutModel",
          "state": {
            "_model_module": "@jupyter-widgets/base",
            "_model_module_version": "1.2.0",
            "_model_name": "LayoutModel",
            "_view_count": null,
            "_view_module": "@jupyter-widgets/base",
            "_view_module_version": "1.2.0",
            "_view_name": "LayoutView",
            "align_content": null,
            "align_items": null,
            "align_self": null,
            "border": null,
            "bottom": null,
            "display": null,
            "flex": null,
            "flex_flow": null,
            "grid_area": null,
            "grid_auto_columns": null,
            "grid_auto_flow": null,
            "grid_auto_rows": null,
            "grid_column": null,
            "grid_gap": null,
            "grid_row": null,
            "grid_template_areas": null,
            "grid_template_columns": null,
            "grid_template_rows": null,
            "height": null,
            "justify_content": null,
            "justify_items": null,
            "left": null,
            "margin": null,
            "max_height": null,
            "max_width": null,
            "min_height": null,
            "min_width": null,
            "object_fit": null,
            "object_position": null,
            "order": null,
            "overflow": null,
            "overflow_x": null,
            "overflow_y": null,
            "padding": null,
            "right": null,
            "top": null,
            "visibility": null,
            "width": null
          }
        },
        "2eeb1c3e98ee468588a1d699071c43a7": {
          "model_module": "@jupyter-widgets/controls",
          "model_module_version": "1.5.0",
          "model_name": "FloatProgressModel",
          "state": {
            "_dom_classes": [],
            "_model_module": "@jupyter-widgets/controls",
            "_model_module_version": "1.5.0",
            "_model_name": "FloatProgressModel",
            "_view_count": null,
            "_view_module": "@jupyter-widgets/controls",
            "_view_module_version": "1.5.0",
            "_view_name": "ProgressView",
            "bar_style": "success",
            "description": "",
            "description_tooltip": null,
            "layout": "IPY_MODEL_339294a5cff740749514d3755b35fc5c",
            "max": 10,
            "min": 0,
            "orientation": "horizontal",
            "style": "IPY_MODEL_292b2a28535d4941970e2574a329c27c",
            "value": 10
          }
        },
        "339294a5cff740749514d3755b35fc5c": {
          "model_module": "@jupyter-widgets/base",
          "model_module_version": "1.2.0",
          "model_name": "LayoutModel",
          "state": {
            "_model_module": "@jupyter-widgets/base",
            "_model_module_version": "1.2.0",
            "_model_name": "LayoutModel",
            "_view_count": null,
            "_view_module": "@jupyter-widgets/base",
            "_view_module_version": "1.2.0",
            "_view_name": "LayoutView",
            "align_content": null,
            "align_items": null,
            "align_self": null,
            "border": null,
            "bottom": null,
            "display": null,
            "flex": null,
            "flex_flow": null,
            "grid_area": null,
            "grid_auto_columns": null,
            "grid_auto_flow": null,
            "grid_auto_rows": null,
            "grid_column": null,
            "grid_gap": null,
            "grid_row": null,
            "grid_template_areas": null,
            "grid_template_columns": null,
            "grid_template_rows": null,
            "height": null,
            "justify_content": null,
            "justify_items": null,
            "left": null,
            "margin": null,
            "max_height": null,
            "max_width": null,
            "min_height": null,
            "min_width": null,
            "object_fit": null,
            "object_position": null,
            "order": null,
            "overflow": null,
            "overflow_x": null,
            "overflow_y": null,
            "padding": null,
            "right": null,
            "top": null,
            "visibility": null,
            "width": null
          }
        },
        "354de4d686094d8d9d5ace903405ee18": {
          "model_module": "@jupyter-widgets/base",
          "model_module_version": "1.2.0",
          "model_name": "LayoutModel",
          "state": {
            "_model_module": "@jupyter-widgets/base",
            "_model_module_version": "1.2.0",
            "_model_name": "LayoutModel",
            "_view_count": null,
            "_view_module": "@jupyter-widgets/base",
            "_view_module_version": "1.2.0",
            "_view_name": "LayoutView",
            "align_content": null,
            "align_items": null,
            "align_self": null,
            "border": null,
            "bottom": null,
            "display": null,
            "flex": null,
            "flex_flow": null,
            "grid_area": null,
            "grid_auto_columns": null,
            "grid_auto_flow": null,
            "grid_auto_rows": null,
            "grid_column": null,
            "grid_gap": null,
            "grid_row": null,
            "grid_template_areas": null,
            "grid_template_columns": null,
            "grid_template_rows": null,
            "height": null,
            "justify_content": null,
            "justify_items": null,
            "left": null,
            "margin": null,
            "max_height": null,
            "max_width": null,
            "min_height": null,
            "min_width": null,
            "object_fit": null,
            "object_position": null,
            "order": null,
            "overflow": null,
            "overflow_x": null,
            "overflow_y": null,
            "padding": null,
            "right": null,
            "top": null,
            "visibility": null,
            "width": null
          }
        },
        "4e036bfb4d5b4459be513ac4a4fc7ad2": {
          "model_module": "@jupyter-widgets/controls",
          "model_module_version": "1.5.0",
          "model_name": "HBoxModel",
          "state": {
            "_dom_classes": [],
            "_model_module": "@jupyter-widgets/controls",
            "_model_module_version": "1.5.0",
            "_model_name": "HBoxModel",
            "_view_count": null,
            "_view_module": "@jupyter-widgets/controls",
            "_view_module_version": "1.5.0",
            "_view_name": "HBoxView",
            "box_style": "",
            "children": [
              "IPY_MODEL_cdeb19c7ee6647b8b7e8c29b2f8f5c32",
              "IPY_MODEL_2eeb1c3e98ee468588a1d699071c43a7",
              "IPY_MODEL_1fd04e34ad1b4161950bbf020c34733c"
            ],
            "layout": "IPY_MODEL_fab063369f99427c89275c1bca19c161"
          }
        },
        "b4a01c6c6e0f4b86b96395806ceb906c": {
          "model_module": "@jupyter-widgets/controls",
          "model_module_version": "1.5.0",
          "model_name": "DescriptionStyleModel",
          "state": {
            "_model_module": "@jupyter-widgets/controls",
            "_model_module_version": "1.5.0",
            "_model_name": "DescriptionStyleModel",
            "_view_count": null,
            "_view_module": "@jupyter-widgets/base",
            "_view_module_version": "1.2.0",
            "_view_name": "StyleView",
            "description_width": ""
          }
        },
        "cdeb19c7ee6647b8b7e8c29b2f8f5c32": {
          "model_module": "@jupyter-widgets/controls",
          "model_module_version": "1.5.0",
          "model_name": "HTMLModel",
          "state": {
            "_dom_classes": [],
            "_model_module": "@jupyter-widgets/controls",
            "_model_module_version": "1.5.0",
            "_model_name": "HTMLModel",
            "_view_count": null,
            "_view_module": "@jupyter-widgets/controls",
            "_view_module_version": "1.5.0",
            "_view_name": "HTMLView",
            "description": "",
            "description_tooltip": null,
            "layout": "IPY_MODEL_354de4d686094d8d9d5ace903405ee18",
            "placeholder": "​",
            "style": "IPY_MODEL_b4a01c6c6e0f4b86b96395806ceb906c",
            "value": "100%"
          }
        },
        "fab063369f99427c89275c1bca19c161": {
          "model_module": "@jupyter-widgets/base",
          "model_module_version": "1.2.0",
          "model_name": "LayoutModel",
          "state": {
            "_model_module": "@jupyter-widgets/base",
            "_model_module_version": "1.2.0",
            "_model_name": "LayoutModel",
            "_view_count": null,
            "_view_module": "@jupyter-widgets/base",
            "_view_module_version": "1.2.0",
            "_view_name": "LayoutView",
            "align_content": null,
            "align_items": null,
            "align_self": null,
            "border": null,
            "bottom": null,
            "display": null,
            "flex": null,
            "flex_flow": null,
            "grid_area": null,
            "grid_auto_columns": null,
            "grid_auto_flow": null,
            "grid_auto_rows": null,
            "grid_column": null,
            "grid_gap": null,
            "grid_row": null,
            "grid_template_areas": null,
            "grid_template_columns": null,
            "grid_template_rows": null,
            "height": null,
            "justify_content": null,
            "justify_items": null,
            "left": null,
            "margin": null,
            "max_height": null,
            "max_width": null,
            "min_height": null,
            "min_width": null,
            "object_fit": null,
            "object_position": null,
            "order": null,
            "overflow": null,
            "overflow_x": null,
            "overflow_y": null,
            "padding": null,
            "right": null,
            "top": null,
            "visibility": null,
            "width": null
          }
        },
        "fe8fc9229c784400be0274bcac0bb746": {
          "model_module": "@jupyter-widgets/controls",
          "model_module_version": "1.5.0",
          "model_name": "DescriptionStyleModel",
          "state": {
            "_model_module": "@jupyter-widgets/controls",
            "_model_module_version": "1.5.0",
            "_model_name": "DescriptionStyleModel",
            "_view_count": null,
            "_view_module": "@jupyter-widgets/base",
            "_view_module_version": "1.2.0",
            "_view_name": "StyleView",
            "description_width": ""
          }
        }
      }
    }
  },
  "nbformat": 4,
  "nbformat_minor": 0
}